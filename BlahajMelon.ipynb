{
  "nbformat": 4,
  "nbformat_minor": 0,
  "metadata": {
    "colab": {
      "name": "BlahajMelon.ipynb",
      "provenance": []
    },
    "kernelspec": {
      "name": "python3",
      "display_name": "Python 3"
    },
    "language_info": {
      "name": "python"
    }
  },
  "cells": [
    {
      "cell_type": "code",
      "metadata": {
        "id": "Wu-gjAr_thXy"
      },
      "source": [
        "import numpy as np\n",
        "import pandas as pd\n",
        "import keras.preprocessing.image as kimg\n",
        "import os\n",
        "import sys\n",
        "from keras.layers import Conv2D\n",
        "from keras.models import Sequential\n",
        "from keras.layers import Dense\n",
        "from keras.layers import MaxPooling2D\n",
        "from keras.layers import Flatten\n",
        "from keras.optimizers import SGD\n",
        "from keras.utils import to_categorical\n",
        "import pickle"
      ],
      "execution_count": 1,
      "outputs": []
    },
    {
      "cell_type": "code",
      "metadata": {
        "id": "zbMPeU2Vtl6s"
      },
      "source": [
        "def define_model():\n",
        "  model=Sequential()\n",
        "  model.add(Conv2D(32,(3,3),activation='relu',kernel_initializer='he_uniform',padding='same',input_shape=(200,200,3)))\n",
        "  model.add(MaxPooling2D((2,2)))\n",
        "  model.add(Flatten())\n",
        "  model.add(Dense(128,activation='relu',kernel_initializer='he_uniform'))\n",
        "  model.add(Dense(1,activation='sigmoid'))\n",
        "  opt=SGD(lr=0.001,momentum=0.9)\n",
        "  model.compile(optimizer=opt,loss='binary_crossentropy',metrics=['accuracy'])\n",
        "  return model"
      ],
      "execution_count": 2,
      "outputs": []
    },
    {
      "cell_type": "code",
      "metadata": {
        "colab": {
          "base_uri": "https://localhost:8080/"
        },
        "id": "KkjjVOJyu71R",
        "outputId": "7b3f748b-c6e2-4d86-bee0-41fe8a18d2ef"
      },
      "source": [
        "model=define_model()\n",
        "datagen=kimg.ImageDataGenerator(rescale=1.0/255.0)\n",
        "train_on=datagen.flow_from_directory('/content/drive/MyDrive/blahajdataset/train/', class_mode='binary',classes = ['blahaj', 'melon'],batch_size=5,target_size=(200,200))\n",
        "test_on=datagen.flow_from_directory('/content/drive/MyDrive/blahajdataset/test/', class_mode='binary',classes = ['blahaj', 'melon'],batch_size=5,target_size=(200,200))\n",
        "history = model.fit(train_on,\n",
        "      steps_per_epoch=len(train_on),  \n",
        "      epochs=10,\n",
        "      verbose=0,\n",
        "      validation_data = test_on,\n",
        "      validation_steps=len(test_on))\n",
        "model.evaluate(test_on)"
      ],
      "execution_count": 44,
      "outputs": [
        {
          "output_type": "stream",
          "text": [
            "Found 71 images belonging to 2 classes.\n",
            "Found 30 images belonging to 2 classes.\n",
            "6/6 [==============================] - 0s 74ms/step - loss: 0.0203 - accuracy: 1.0000\n"
          ],
          "name": "stdout"
        },
        {
          "output_type": "execute_result",
          "data": {
            "text/plain": [
              "[0.020335564389824867, 1.0]"
            ]
          },
          "metadata": {
            "tags": []
          },
          "execution_count": 44
        }
      ]
    },
    {
      "cell_type": "code",
      "metadata": {
        "id": "5II4k-NBvf0c"
      },
      "source": [
        "def load_image(filename):\n",
        "  img=kimg.load_img(filename,target_size=(200,200))\n",
        "  img=kimg.img_to_array(img)\n",
        "  img=img.reshape(1,200,200,3)\n",
        "  img=img.astype('float32')\n",
        "  img/=255.0\n",
        "  return img"
      ],
      "execution_count": 45,
      "outputs": []
    },
    {
      "cell_type": "code",
      "metadata": {
        "id": "0IAOBApN0n4Y"
      },
      "source": [
        "model.save('blahaj.h5')"
      ],
      "execution_count": 50,
      "outputs": []
    },
    {
      "cell_type": "code",
      "metadata": {
        "id": "QIknTKlC88Ar"
      },
      "source": [
        ""
      ],
      "execution_count": null,
      "outputs": []
    }
  ]
}